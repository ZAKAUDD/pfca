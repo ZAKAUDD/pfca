{
 "cells": [
  {
   "cell_type": "code",
   "execution_count": 9,
   "metadata": {},
   "outputs": [],
   "source": [
    "import os\n",
    "from pfca import init_path\n",
    "from pfca.visuals.img2D import imgplot"
   ]
  },
  {
   "cell_type": "code",
   "execution_count": 4,
   "metadata": {},
   "outputs": [],
   "source": [
    "from pfca.core.preprocessing import *"
   ]
  },
  {
   "cell_type": "code",
   "execution_count": 5,
   "metadata": {},
   "outputs": [],
   "source": [
    "from pfca.core.processing import *"
   ]
  },
  {
   "cell_type": "code",
   "execution_count": 15,
   "metadata": {},
   "outputs": [],
   "source": [
    "from pfca import file_read as f\n",
    "import ants"
   ]
  },
  {
   "cell_type": "code",
   "execution_count": 11,
   "metadata": {},
   "outputs": [],
   "source": [
    "raw_dir, nifti_dir = init_path()\n",
    "cur_path = os.getcwd()\n",
    "patients_list = f.get_immediate_subdirectories(raw_dir)\n",
    "patient = patients_list[0]"
   ]
  },
  {
   "cell_type": "code",
   "execution_count": 21,
   "metadata": {},
   "outputs": [],
   "source": [
    "im_nifti = nifti_ANTS(nifti_dir, patient, category = 'eswan', unskulled = True)\n",
    "im_patient = mni_template_registration(cur_path, im_nifti, patient)"
   ]
  },
  {
   "cell_type": "code",
   "execution_count": 23,
   "metadata": {},
   "outputs": [],
   "source": [
    "#testing for template exclusion idea for anatomical exclusion to reduce search space\n",
    "talariach = ants.image_read(cur_path + '/datasets/talairach.nii')\n",
    "mni_t2 = ants.image_read(cur_path + '/datasets/mni_t2_template.nii')"
   ]
  },
  {
   "cell_type": "code",
   "execution_count": 24,
   "metadata": {},
   "outputs": [
    {
     "data": {
      "text/plain": [
       "ANTsImage (LPI)\n",
       "\t Pixel Type : float (float32)\n",
       "\t Components : 1\n",
       "\t Dimensions : (141, 172, 110)\n",
       "\t Spacing    : (1.0, 1.0, 1.0)\n",
       "\t Origin     : (70.0, 102.0, -42.0)\n",
       "\t Direction  : [-1.  0.  0.  0. -1.  0.  0.  0.  1.]"
      ]
     },
     "execution_count": 24,
     "metadata": {},
     "output_type": "execute_result"
    }
   ],
   "source": [
    "talariach"
   ]
  },
  {
   "cell_type": "code",
   "execution_count": 22,
   "metadata": {},
   "outputs": [
    {
     "data": {
      "text/plain": [
       "ANTsImage (LPI)\n",
       "\t Pixel Type : float (float32)\n",
       "\t Components : 1\n",
       "\t Dimensions : (197, 233, 189)\n",
       "\t Spacing    : (1.0, 1.0, 1.0)\n",
       "\t Origin     : (98.0, 134.0, -72.0)\n",
       "\t Direction  : [-1.  0.  0.  0. -1.  0.  0.  0.  1.]"
      ]
     },
     "execution_count": 22,
     "metadata": {},
     "output_type": "execute_result"
    }
   ],
   "source": [
    "im_patient"
   ]
  },
  {
   "cell_type": "code",
   "execution_count": 25,
   "metadata": {},
   "outputs": [
    {
     "data": {
      "text/plain": [
       "ANTsImage (LPI)\n",
       "\t Pixel Type : float (float32)\n",
       "\t Components : 1\n",
       "\t Dimensions : (197, 233, 189)\n",
       "\t Spacing    : (1.0, 1.0, 1.0)\n",
       "\t Origin     : (98.0, 134.0, -72.0)\n",
       "\t Direction  : [-1.  0.  0.  0. -1.  0.  0.  0.  1.]"
      ]
     },
     "execution_count": 25,
     "metadata": {},
     "output_type": "execute_result"
    }
   ],
   "source": [
    "mni_t2"
   ]
  },
  {
   "cell_type": "code",
   "execution_count": null,
   "metadata": {},
   "outputs": [],
   "source": []
  }
 ],
 "metadata": {
  "kernelspec": {
   "display_name": "Python 3",
   "language": "python",
   "name": "python3"
  },
  "language_info": {
   "codemirror_mode": {
    "name": "ipython",
    "version": 3
   },
   "file_extension": ".py",
   "mimetype": "text/x-python",
   "name": "python",
   "nbconvert_exporter": "python",
   "pygments_lexer": "ipython3",
   "version": "3.7.3"
  }
 },
 "nbformat": 4,
 "nbformat_minor": 2
}
