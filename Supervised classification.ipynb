{
 "cells": [
  {
   "cell_type": "markdown",
   "metadata": {},
   "source": [
    "<h1>Supervised Learning on the labelled data</h1>\n",
    "<h3>Here, we will use the supervised classification technique for the binary classification of the image patches extracted using RST as CMB or Non-CMB. The classifier used here will be Support Vector Machine(SVM) with Radial Basis Function(RBF) kernel.</h3>"
   ]
  },
  {
   "cell_type": "code",
   "execution_count": 1,
   "metadata": {},
   "outputs": [
    {
     "name": "stdout",
     "output_type": "stream",
     "text": [
      "Current Working Directory: /Users/shwetankpanwar/Documents/BTPData/python_scripts/cmb_segmentation\n",
      "The file structure creation failed. Structure already exists!\n"
     ]
    }
   ],
   "source": [
    "import os\n",
    "import numpy as np\n",
    "import pandas as pd\n",
    "from pfca import init_path\n",
    "from pfca.visuals.img2D import imgplot\n",
    "from pfca.core.preprocessing import *\n",
    "from pfca.core.processing import *\n",
    "from pfca import file_read as f\n",
    "import ants\n",
    "import skimage.feature as feature\n",
    "from time import time\n",
    "from pfca.exp.results import roi_snipping\n",
    "from pfca.exp.dataset import *\n",
    "from pfca import init_path"
   ]
  },
  {
   "cell_type": "code",
   "execution_count": 2,
   "metadata": {},
   "outputs": [],
   "source": [
    "raw_dir, nifti_dir = init_path()\n",
    "cur_path = os.getcwd()"
   ]
  },
  {
   "cell_type": "markdown",
   "metadata": {},
   "source": [
    "<p>After the initialization, we will import the data stored in the pickle files and merge them in order to increase our sample size</p>"
   ]
  },
  {
   "cell_type": "code",
   "execution_count": 3,
   "metadata": {},
   "outputs": [],
   "source": [
    "def import_dataset(dataset):\n",
    "    import os\n",
    "    import pandas as pd\n",
    "    cur_path = os.getcwd()\n",
    "    ds = pd.read_pickle(cur_path + '/datasets/learning/' + dataset)\n",
    "    return ds"
   ]
  },
  {
   "cell_type": "code",
   "execution_count": 4,
   "metadata": {},
   "outputs": [],
   "source": [
    "pdataset = import_dataset('rst_output_all_subjects_2_2_0.1')          #Data from positive RST\n",
    "ndataset = import_dataset('rst_output_all_subjects_negative_2_2_0.1') #Data from negative RST"
   ]
  },
  {
   "cell_type": "code",
   "execution_count": 5,
   "metadata": {},
   "outputs": [],
   "source": [
    "labelled_data = pdataset.append(ndataset, ignore_index=True)"
   ]
  },
  {
   "cell_type": "code",
   "execution_count": 6,
   "metadata": {},
   "outputs": [
    {
     "name": "stdout",
     "output_type": "stream",
     "text": [
      "Total no of labelled datapoints: 2599\n",
      "Total no of target datapoints: 123\n",
      "Total no of non-target datapoints: 2476\n"
     ]
    }
   ],
   "source": [
    "print(\"Total no of labelled datapoints: \" + str(len(labelled_data)))\n",
    "print(\"Total no of target datapoints: \" + str(len(labelled_data.loc[\n",
    "    labelled_data['label'] == 1\n",
    "])))\n",
    "print(\"Total no of non-target datapoints: \" + str(len(labelled_data.loc[\n",
    "    labelled_data['label'] == 0\n",
    "])))"
   ]
  },
  {
   "cell_type": "markdown",
   "metadata": {},
   "source": [
    "<h3>First, we will try to evaluate the performance on the original non-augmented dataset and see how our classifier performs</h3>\n",
    "<p>The results will be used to see if the data augmentation improves performance or not.</p>\n",
    "<p>The evaluation will be done based on k-fold cross validation</p>"
   ]
  },
  {
   "cell_type": "code",
   "execution_count": 7,
   "metadata": {},
   "outputs": [],
   "source": [
    "#Function to perform k-fold splitting in the dataset\n",
    "def k_fold_split(dataset, k, balanced = True):\n",
    "        import pandas as pd\n",
    "        import numpy as np\n",
    "        ds = dataset.copy()\n",
    "        targets = ds.loc[ds['label'] == 1]         #Target data\n",
    "        non_targets = ds.loc[ds['label'] == 0]     #Non target data\n",
    "\n",
    "        n_targets = len(targets)\n",
    "        n_non_t = len(non_targets)\n",
    "\n",
    "        n_comm = min(n_targets, n_non_t)\n",
    "        list_target = targets.index.values\n",
    "        list_non_targets = non_targets.index.values\n",
    "\n",
    "        if balanced == True:  # It will produce a balanced class with equal no of targets and non-targets\n",
    "            # Decategorizing data in case of appending\n",
    "            n_session = int(n_comm/k)         # no of target points to select\n",
    "            ds['session'] = np.nan\n",
    "\n",
    "            trainees = np.random.choice(list_target, size=(k, n_session), replace=False)\n",
    "            trainees2 = np.random.choice(list_non_targets, size=(k, n_session), replace=False)\n",
    "\n",
    "            for i in range(k):\n",
    "                all_train = np.append(trainees[i,:], trainees2[i,:])\n",
    "\n",
    "                ds.at[all_train, ['session']] = 'fold_' + str(i+1)  # Labelling the datapoints as training points\n",
    "            return ds, all_train"
   ]
  },
  {
   "cell_type": "code",
   "execution_count": 8,
   "metadata": {},
   "outputs": [],
   "source": [
    "splitted_data, lst = k_fold_split(labelled_data, 4)"
   ]
  },
  {
   "cell_type": "code",
   "execution_count": 19,
   "metadata": {},
   "outputs": [
    {
     "name": "stdout",
     "output_type": "stream",
     "text": [
      "Total no of datapoints in one fold session: 60\n"
     ]
    }
   ],
   "source": [
    "print(\"Total no of datapoints in one fold session: \" + str(len(splitted_data.loc[\n",
    "    splitted_data['session'] == 'fold_4'\n",
    "])))"
   ]
  },
  {
   "cell_type": "code",
   "execution_count": 30,
   "metadata": {},
   "outputs": [],
   "source": [
    "#Adding the raw feature column in the dataframe\n",
    "import sys"
   ]
  },
  {
   "cell_type": "code",
   "execution_count": 43,
   "metadata": {},
   "outputs": [],
   "source": [
    "def k_fold_training(dataset, k, classifier):\n",
    "    import pfca.exp.dataset\n",
    "    import pfca.exp.results \n",
    "    import numpy as np\n",
    "    from sklearn.metrics import confusion_matrix\n",
    "    from matplotlib import pyplot as plt\n",
    "    #Rather than rewriting the code, we will be utilizing the same code written for data_dictionary class\n",
    "    datas = pfca.exp.dataset.data_dictionary()\n",
    "    datas.dataset = splitted_data\n",
    "    datas.splitted = True           #So that feature_matrix_raw() method works\n",
    "    datas.dataset = datas.dataset.rename(columns = {\"image_patch\" : \"image\"})\n",
    "    for i in range(k):\n",
    "        print(\"Starting the testing on fold_\" + str(i+1) + \" data.\")\n",
    "        ###########Data Acquisition##########################\n",
    "        ks_t = np.arange(k)\n",
    "        y_t = np.array([])\n",
    "        ks_values = np.delete(ks_t, [i], None)\n",
    "        x_t, _ = datas.feature_matrix_raw('fold_' + str(i+1))\n",
    "        x_zero = np.zeros((1, x_t.shape[1]))\n",
    "        \n",
    "        for j in ks_values:\n",
    "            x_temp, y_temp = datas.feature_matrix_raw('fold_' + str(j+1))\n",
    "            x_zero = np.vstack((x_zero, x_temp))\n",
    "            y_t = np.append(y_t, y_temp)    \n",
    "        \n",
    "        X = np.delete(x_zero, 0, 0)\n",
    "        Y = y_t\n",
    "        print(X.shape)\n",
    "        print(Y.shape)\n",
    "        X_test, Y_test = datas.feature_matrix_raw('fold_' + str(i+1))\n",
    "        #######################################################\n",
    "        #sys.exit()\n",
    "        classifier.fit(X, Y)\n",
    "        y_pred = classifier.predict(X_test)\n",
    "        tn, fp, fn, tp = (confusion_matrix(Y_test, y_pred)).ravel()\n",
    "\n",
    "        confusion_mat = np.array([[tp, fp],\n",
    "                                  [fn, tn]])\n",
    "        fig, ax = plt.subplots()\n",
    "\n",
    "        im, cbar = pfca.exp.results.heatmap(confusion_mat, ['Predicted True', 'Predicted False'], ['Actual True', 'Actual False'], ax=ax,\n",
    "                           cmap=\"Blues\", cbarlabel=\" [No. of samples]\")\n",
    "        texts = pfca.exp.results.annotate_heatmap(im, valfmt=\"{x:.2f}\")\n",
    "        fig.tight_layout()\n",
    "        plt.show()\n",
    "        print(\"Sensitivity : \", (tp / (fn + tp)))\n",
    "        print(\"Specificity : \", (fp / (fp + tn)))\n",
    "    return classifier    "
   ]
  },
  {
   "cell_type": "code",
   "execution_count": 44,
   "metadata": {
    "scrolled": false
   },
   "outputs": [
    {
     "name": "stdout",
     "output_type": "stream",
     "text": [
      "Starting the testing on fold_1 data.\n",
      "(180, 1000)\n",
      "(180,)\n"
     ]
    },
    {
     "data": {
      "image/png": "[encoded data removed]",
      "text/plain": [
       "<Figure size 432x288 with 2 Axes>"
      ]
     },
     "metadata": {
      "needs_background": "light"
     },
     "output_type": "display_data"
    },
    {
     "name": "stdout",
     "output_type": "stream",
     "text": [
      "Sensitivity :  1.0\n",
      "Specificity :  1.0\n",
      "Starting the testing on fold_2 data.\n",
      "(180, 1000)\n",
      "(180,)\n"
     ]
    },
    {
     "data": {
      "image/png": "[encoded data removed]",
      "text/plain": [
       "<Figure size 432x288 with 2 Axes>"
      ]
     },
     "metadata": {
      "needs_background": "light"
     },
     "output_type": "display_data"
    },
    {
     "name": "stdout",
     "output_type": "stream",
     "text": [
      "Sensitivity :  1.0\n",
      "Specificity :  1.0\n",
      "Starting the testing on fold_3 data.\n",
      "(180, 1000)\n",
      "(180,)\n"
     ]
    },
    {
     "data": {
      "image/png": "[encoded data removed]",
      "text/plain": [
       "<Figure size 432x288 with 2 Axes>"
      ]
     },
     "metadata": {
      "needs_background": "light"
     },
     "output_type": "display_data"
    },
    {
     "name": "stdout",
     "output_type": "stream",
     "text": [
      "Sensitivity :  1.0\n",
      "Specificity :  1.0\n",
      "Starting the testing on fold_4 data.\n",
      "(180, 1000)\n",
      "(180,)\n"
     ]
    },
    {
     "data": {
      "image/png": "[encoded data removed]",
      "text/plain": [
       "<Figure size 432x288 with 2 Axes>"
      ]
     },
     "metadata": {
      "needs_background": "light"
     },
     "output_type": "display_data"
    },
    {
     "name": "stdout",
     "output_type": "stream",
     "text": [
      "Sensitivity :  1.0\n",
      "Specificity :  1.0\n"
     ]
    }
   ],
   "source": [
    "from sklearn.svm import SVC\n",
    "svm_classifier = SVC(gamma = 'auto')\n",
    "trained_svm = k_fold_training(splitted_data, 4, svm_classifier)"
   ]
  },
  {
   "cell_type": "code",
   "execution_count": null,
   "metadata": {},
   "outputs": [],
   "source": []
  },
  {
   "cell_type": "code",
   "execution_count": null,
   "metadata": {},
   "outputs": [],
   "source": []
  },
  {
   "cell_type": "code",
   "execution_count": null,
   "metadata": {},
   "outputs": [],
   "source": []
  }
 ],
 "metadata": {
  "kernelspec": {
   "display_name": "Python 3",
   "language": "python",
   "name": "python3"
  },
  "language_info": {
   "codemirror_mode": {
    "name": "ipython",
    "version": 3
   },
   "file_extension": ".py",
   "mimetype": "text/x-python",
   "name": "python",
   "nbconvert_exporter": "python",
   "pygments_lexer": "ipython3",
   "version": "3.7.3"
  }
 },
 "nbformat": 4,
 "nbformat_minor": 2
}
