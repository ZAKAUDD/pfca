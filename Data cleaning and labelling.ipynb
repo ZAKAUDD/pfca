{
 "cells": [
  {
   "cell_type": "markdown",
   "metadata": {},
   "source": [
    "<h1>Dataset Cleaning and Relabelling</h1>\n",
    "<h3>Intended to curate the final labelled dataset for the CMB and Non-CMB patches in order to train the classifiers</h3>"
   ]
  },
  {
   "cell_type": "code",
   "execution_count": 1,
   "metadata": {},
   "outputs": [
    {
     "name": "stdout",
     "output_type": "stream",
     "text": [
      "Current Working Directory: /Users/shwetankpanwar/Documents/BTPData/python_scripts/cmb_segmentation\n",
      "The file structure creation failed. Structure already exists!\n"
     ]
    }
   ],
   "source": [
    "import os\n",
    "import numpy as np\n",
    "import pandas as pd\n",
    "from pfca import init_path\n",
    "from pfca.visuals.img2D import imgplot\n",
    "from pfca.core.preprocessing import *\n",
    "from pfca.core.processing import *\n",
    "from pfca import file_read as f\n",
    "import ants\n",
    "import skimage.feature as feature\n",
    "from time import time\n",
    "from pfca.exp.results import roi_snipping\n",
    "from pfca.exp.dataset import *"
   ]
  },
  {
   "cell_type": "code",
   "execution_count": 2,
   "metadata": {},
   "outputs": [],
   "source": [
    "raw_dir, nifti_dir = init_path()\n",
    "cur_path = os.getcwd()\n",
    "#patients_list = f.get_immediate_subdirectories(raw_dir)\n",
    "#Curating the patients list on my own since I don't have the raw data folders with me on the local machine\n",
    "patients_list = ['1','2','3','4','5','6','7','8','9','10','11','12','13','15','p1','p2']"
   ]
  },
  {
   "cell_type": "code",
   "execution_count": 3,
   "metadata": {},
   "outputs": [],
   "source": [
    "#Importing the dataframes with the RST outputs \n",
    "#pdata : Dataframe containing all the peaks in the positive data\n",
    "#ndata : Dataframe containing all the peaks in the negative data\n",
    "pdata = pd.read_pickle('RST_outputs_all/rst_output_all_subjects_2_2_0.1')\n",
    "ndata = pd.read_pickle('RST_outputs_all/rst_output_all_subjects_negative_2_2_0.1')"
   ]
  },
  {
   "cell_type": "code",
   "execution_count": 4,
   "metadata": {},
   "outputs": [
    {
     "name": "stdout",
     "output_type": "stream",
     "text": [
      "No of detections in the pdata list: 605\n",
      "No of detections in the ndata list: 1994\n"
     ]
    }
   ],
   "source": [
    "print(\"No of detections in the pdata list: \" + str(len(pdata)))\n",
    "print(\"No of detections in the ndata list: \" + str(len(ndata)))"
   ]
  },
  {
   "cell_type": "code",
   "execution_count": 5,
   "metadata": {},
   "outputs": [],
   "source": [
    "ndataset = dataset_management()  #Adding the negative RST data to the "
   ]
  },
  {
   "cell_type": "code",
   "execution_count": 6,
   "metadata": {},
   "outputs": [
    {
     "name": "stdout",
     "output_type": "stream",
     "text": [
      "Directory Exists!\n"
     ]
    }
   ],
   "source": [
    "#store all the snippets for manual labelling in negative RST dataset\n",
    "store_results(ndata, 5, 'rst_output_all_subjects_negative_2_2_0.1')"
   ]
  },
  {
   "cell_type": "code",
   "execution_count": null,
   "metadata": {},
   "outputs": [],
   "source": []
  }
 ],
 "metadata": {
  "kernelspec": {
   "display_name": "Python 3",
   "language": "python",
   "name": "python3"
  },
  "language_info": {
   "codemirror_mode": {
    "name": "ipython",
    "version": 3
   },
   "file_extension": ".py",
   "mimetype": "text/x-python",
   "name": "python",
   "nbconvert_exporter": "python",
   "pygments_lexer": "ipython3",
   "version": "3.7.3"
  }
 },
 "nbformat": 4,
 "nbformat_minor": 2
}
