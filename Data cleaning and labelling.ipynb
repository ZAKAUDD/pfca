{
 "cells": [
  {
   "cell_type": "markdown",
   "metadata": {},
   "source": [
    "<h1>Dataset Cleaning and Relabelling</h1>\n",
    "<h3>Intended to curate the final labelled dataset for the CMB and Non-CMB patches in order to train the classifiers</h3>"
   ]
  },
  {
   "cell_type": "code",
   "execution_count": 1,
   "metadata": {},
   "outputs": [
    {
     "name": "stdout",
     "output_type": "stream",
     "text": [
      "Current Working Directory: /Users/shwetankpanwar/Documents/BTPData/python_scripts/cmb_segmentation\n",
      "The file structure creation failed. Structure already exists!\n"
     ]
    }
   ],
   "source": [
    "import os\n",
    "from pfca import init_path\n",
    "from pfca.visuals.img2D import imgplot\n",
    "from pfca.core.preprocessing import *\n",
    "from pfca.core.processing import *\n",
    "from pfca import file_read as f\n",
    "import ants\n",
    "import skimage.feature as feature\n",
    "from time import time\n",
    "from pfca.exp.results import roi_snipping\n",
    "from pfca.exp.dataset import *"
   ]
  },
  {
   "cell_type": "code",
   "execution_count": null,
   "metadata": {},
   "outputs": [],
   "source": []
  }
 ],
 "metadata": {
  "kernelspec": {
   "display_name": "Python 3",
   "language": "python",
   "name": "python3"
  },
  "language_info": {
   "codemirror_mode": {
    "name": "ipython",
    "version": 3
   },
   "file_extension": ".py",
   "mimetype": "text/x-python",
   "name": "python",
   "nbconvert_exporter": "python",
   "pygments_lexer": "ipython3",
   "version": "3.7.3"
  }
 },
 "nbformat": 4,
 "nbformat_minor": 2
}
