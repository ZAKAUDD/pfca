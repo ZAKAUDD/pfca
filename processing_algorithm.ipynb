{
 "cells": [
  {
   "cell_type": "code",
   "execution_count": 16,
   "metadata": {},
   "outputs": [],
   "source": [
    "import numpy as np\n",
    "import skimage\n",
    "import scipy.io\n",
    "import pydicom\n",
    "import os\n",
    "import sys\n",
    "import nibabel as nb\n",
    "import deepbrain\n",
    "import pandas as pd\n",
    "import datetime\n",
    "from pylab import *"
   ]
  },
  {
   "cell_type": "code",
   "execution_count": 3,
   "metadata": {},
   "outputs": [
    {
     "name": "stdout",
     "output_type": "stream",
     "text": [
      "Current Working Directory: /Users/shwetankpanwar/Documents/BTPData/python_scripts\n",
      "The file structure creation failed.\n"
     ]
    }
   ],
   "source": [
    "#filesystem for the package\n",
    "cur_path = os.getcwd()\n",
    "print(\"Current Working Directory: \"+ cur_path)\n",
    "try:\n",
    "    os.makedirs(cur_path+'/params')\n",
    "    os.makedirs(cur_path+'/visuals/3d_vtk')\n",
    "    os.makedirs(cur_path+'/visuals/stills_2d')\n",
    "    os.makedirs(cur_path+'/output')\n",
    "    os.makedirs(cur_path+'/datasets')\n",
    "    os.makedirs(cur_path+'/datasets/raw')\n",
    "    print(\"Directory Structure created successfully.\")\n",
    "except:\n",
    "    print(\"The file structure creation failed.\")"
   ]
  },
  {
   "cell_type": "code",
   "execution_count": 17,
   "metadata": {},
   "outputs": [],
   "source": [
    "#input variables...to be saved inside the input_params.csv\n",
    "if os.path.isfile(cur_path+'/params/input_params.csv'):\n",
    "    file = pd.read_csv(cur_path+'/params/input_params.csv')\n",
    "    raw_data_dir = file['raw'].values[0]\n",
    "    nifti_dir = file['nifti'].values[0]\n",
    "else:\n",
    "    path_raw = str(cur_path)+\"/datasets/raw/\"\n",
    "    path_nifti = str(cur_path)+\"/datasets/nifti/\"\n",
    "    d_modified = datetime.date.today()\n",
    "    file_dataframe = {'raw': [path_raw], 'date_added': [d_modified], 'nifti': [path_nifti]}\n",
    "    r = pd.DataFrame(file_dataframe)\n",
    "    r.to_csv(cur_path+'/params/input_params.csv')"
   ]
  },
  {
   "cell_type": "code",
   "execution_count": 7,
   "metadata": {},
   "outputs": [],
   "source": [
    "#raw data processing goes here....The functions are described properly in the preprocessing.ipynb file"
   ]
  },
  {
   "cell_type": "code",
   "execution_count": 8,
   "metadata": {},
   "outputs": [],
   "source": [
    "def dcm_lst(subject_folder):\n",
    "    #Function to develop list of DICOM files present in a directory.\n",
    "    #Filename should start with a single alphabet followed by a digit i.e. 'Z01', 'Z11' \n",
    "    lstDCM = []\n",
    "    if not os.path.exists(subject_folder):\n",
    "        print(\"Subject Path not found. Exiting..\")\n",
    "        sys.exit()\n",
    "    for dirname, subdirList, fileList in os.walk(subject_folder):\n",
    "        for filename in fileList:\n",
    "            if filename[1].isdigit():\n",
    "                lstDCM.append(os.path.join(dirname,filename))\n",
    "    return lstDCM  "
   ]
  },
  {
   "cell_type": "code",
   "execution_count": 9,
   "metadata": {},
   "outputs": [],
   "source": [
    "def dcm_array(subject_folder, orientation = None):\n",
    "    lst_DCM = dcm_lst(subject_folder)\n",
    "    #print(lst_DCM)\n",
    "    refSlice = pydicom.read_file(lst_DCM[0])\n",
    "    pixel_dim = (int(refSlice.Rows),int(refSlice.Columns),int(len(lst_DCM)))\n",
    "    print(\"Array Dimensions:\")\n",
    "    print(pixel_dim)\n",
    "    array_dicom = np.zeros(pixel_dim,dtype = refSlice.pixel_array.dtype)\n",
    "    for filename in lst_DCM:\n",
    "        da = pydicom.read_file(filename)\n",
    "        array_dicom[:,:,(int(da.InstanceNumber)-1)] = da.pixel_array\n",
    "    return array_dicom    "
   ]
  },
  {
   "cell_type": "code",
   "execution_count": 10,
   "metadata": {},
   "outputs": [],
   "source": [
    "#to get the list of individual patient folder inside the raw data folder\n",
    "def get_immediate_subdirectories(a_dir):\n",
    "    return [name for name in os.listdir(a_dir)\n",
    "            if os.path.isdir(os.path.join(a_dir, name))]"
   ]
  },
  {
   "cell_type": "code",
   "execution_count": 18,
   "metadata": {},
   "outputs": [],
   "source": [
    "patients_dir = get_immediate_subdirectories(raw_data_dir)\n",
    "patient = patients_dir[1]"
   ]
  },
  {
   "cell_type": "code",
   "execution_count": 22,
   "metadata": {},
   "outputs": [
    {
     "name": "stdout",
     "output_type": "stream",
     "text": [
      "Array Dimensions:\n",
      "(512, 512, 68)\n"
     ]
    }
   ],
   "source": [
    "#raw_pixel_array_formation\n",
    "p2_array_raw = dcm_array(raw_data_dir+'/'+patient)"
   ]
  },
  {
   "cell_type": "code",
   "execution_count": 29,
   "metadata": {},
   "outputs": [],
   "source": [
    "#Cell to convert the raw dicom to nifti format and transform it into MNI space\n",
    "nii_file = patient + '_unskulled_anat.nii'"
   ]
  },
  {
   "cell_type": "code",
   "execution_count": 43,
   "metadata": {},
   "outputs": [],
   "source": [
    "#FSL Brain Extraction Tool(BET) for skull stripping\n",
    "#parameters:\n",
    "#path_nifti = Path where nifti files will be stored\n",
    "#patient = name of the patient file\n",
    "def skull_stripping(path_nifti,patient):\n",
    "    from nipype.interfaces import fsl \n",
    "    import gzip\n",
    "    import shutil    \n",
    "    nii_file = patient + '_unskulled_anat.nii'\n",
    "    btr = fsl.BET()\n",
    "    btr.inputs.in_file = path_nifti + patient + '.nii'\n",
    "    btr.inputs.frac = 0.7\n",
    "    btr.inputs.out_file = path_nifti + nii_file\n",
    "    btr.cmdline\n",
    "    res = btr.run()\n",
    "    print('Skull stripping done successfully.')\n",
    "    with gzip.open(path_nifti + nii_file + '.gz', 'rb') as f_in:\n",
    "        with open(path_nifti + nii_file, 'wb') as f_out:\n",
    "            shutil.copyfileobj(f_in, f_out)\n",
    "    try:\n",
    "        os.remove(path_nifti + nii_file + '.gz')\n",
    "        print(\"Skull stripped file saved successfully!\")\n",
    "    except:\n",
    "        print('Some error occured while saving the file.')"
   ]
  },
  {
   "cell_type": "code",
   "execution_count": 42,
   "metadata": {},
   "outputs": [
    {
     "name": "stdout",
     "output_type": "stream",
     "text": [
      "Skull stripping done successfully.\n",
      "Skull stripped file saved successfully!\n"
     ]
    }
   ],
   "source": [
    "skull_stripping(path_nifti, patient)"
   ]
  },
  {
   "cell_type": "code",
   "execution_count": null,
   "metadata": {},
   "outputs": [],
   "source": [
    "p2 = nb.load(path_nifti + patient + '_unskulled_anat.nii').get_fdata()"
   ]
  },
  {
   "cell_type": "code",
   "execution_count": null,
   "metadata": {},
   "outputs": [],
   "source": []
  }
 ],
 "metadata": {
  "kernelspec": {
   "display_name": "Python 3",
   "language": "python",
   "name": "python3"
  },
  "language_info": {
   "codemirror_mode": {
    "name": "ipython",
    "version": 3
   },
   "file_extension": ".py",
   "mimetype": "text/x-python",
   "name": "python",
   "nbconvert_exporter": "python",
   "pygments_lexer": "ipython3",
   "version": "3.7.3"
  }
 },
 "nbformat": 4,
 "nbformat_minor": 2
}
